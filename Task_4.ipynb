{
 "cells": [
  {
   "cell_type": "code",
   "execution_count": 3,
   "id": "67ac94fc-76ae-49c0-9b5f-2d522ed5dc7c",
   "metadata": {},
   "outputs": [
    {
     "name": "stdout",
     "output_type": "stream",
     "text": [
      "Requirement already satisfied: catboost in c:\\users\\bless\\anaconda3\\lib\\site-packages (1.2.8)\n",
      "Requirement already satisfied: graphviz in c:\\users\\bless\\anaconda3\\lib\\site-packages (from catboost) (0.21)\n",
      "Requirement already satisfied: matplotlib in c:\\users\\bless\\anaconda3\\lib\\site-packages (from catboost) (3.10.0)\n",
      "Requirement already satisfied: numpy<3.0,>=1.16.0 in c:\\users\\bless\\anaconda3\\lib\\site-packages (from catboost) (2.1.3)\n",
      "Requirement already satisfied: pandas>=0.24 in c:\\users\\bless\\anaconda3\\lib\\site-packages (from catboost) (2.2.3)\n",
      "Requirement already satisfied: scipy in c:\\users\\bless\\anaconda3\\lib\\site-packages (from catboost) (1.15.3)\n",
      "Requirement already satisfied: plotly in c:\\users\\bless\\anaconda3\\lib\\site-packages (from catboost) (5.24.1)\n",
      "Requirement already satisfied: six in c:\\users\\bless\\anaconda3\\lib\\site-packages (from catboost) (1.17.0)\n",
      "Requirement already satisfied: python-dateutil>=2.8.2 in c:\\users\\bless\\anaconda3\\lib\\site-packages (from pandas>=0.24->catboost) (2.9.0.post0)\n",
      "Requirement already satisfied: pytz>=2020.1 in c:\\users\\bless\\anaconda3\\lib\\site-packages (from pandas>=0.24->catboost) (2024.1)\n",
      "Requirement already satisfied: tzdata>=2022.7 in c:\\users\\bless\\anaconda3\\lib\\site-packages (from pandas>=0.24->catboost) (2025.2)\n",
      "Requirement already satisfied: contourpy>=1.0.1 in c:\\users\\bless\\anaconda3\\lib\\site-packages (from matplotlib->catboost) (1.3.1)\n",
      "Requirement already satisfied: cycler>=0.10 in c:\\users\\bless\\anaconda3\\lib\\site-packages (from matplotlib->catboost) (0.11.0)\n",
      "Requirement already satisfied: fonttools>=4.22.0 in c:\\users\\bless\\anaconda3\\lib\\site-packages (from matplotlib->catboost) (4.55.3)\n",
      "Requirement already satisfied: kiwisolver>=1.3.1 in c:\\users\\bless\\anaconda3\\lib\\site-packages (from matplotlib->catboost) (1.4.8)\n",
      "Requirement already satisfied: packaging>=20.0 in c:\\users\\bless\\anaconda3\\lib\\site-packages (from matplotlib->catboost) (24.2)\n",
      "Requirement already satisfied: pillow>=8 in c:\\users\\bless\\anaconda3\\lib\\site-packages (from matplotlib->catboost) (11.1.0)\n",
      "Requirement already satisfied: pyparsing>=2.3.1 in c:\\users\\bless\\anaconda3\\lib\\site-packages (from matplotlib->catboost) (3.2.0)\n",
      "Requirement already satisfied: tenacity>=6.2.0 in c:\\users\\bless\\anaconda3\\lib\\site-packages (from plotly->catboost) (9.0.0)\n"
     ]
    }
   ],
   "source": [
    "!pip install catboost"
   ]
  },
  {
   "cell_type": "code",
   "execution_count": 15,
   "id": "6aecb0f6-841e-4d66-a3f2-75a1d084f547",
   "metadata": {},
   "outputs": [],
   "source": [
    "# Import necessary libraries\n",
    "import pandas as pd\n",
    "import numpy as np\n",
    "import xgboost as xgb\n",
    "from sklearn.model_selection import train_test_split\n",
    "from sklearn.preprocessing import StandardScaler, OneHotEncoder\n",
    "from sklearn.compose import ColumnTransformer\n",
    "from sklearn.pipeline import Pipeline\n",
    "from sklearn.impute import SimpleImputer\n",
    "from sklearn.linear_model import LogisticRegression\n",
    "from sklearn.metrics import roc_auc_score, precision_recall_curve\n",
    "import matplotlib.pyplot as plt"
   ]
  },
  {
   "cell_type": "code",
   "execution_count": 5,
   "id": "0b848e15-373e-4d45-a523-89df34f9e58e",
   "metadata": {},
   "outputs": [],
   "source": [
    "# Load the dataset\n",
    "df = pd.read_csv('credit_risk_dataset.csv')"
   ]
  },
  {
   "cell_type": "code",
   "execution_count": 6,
   "id": "c5327bec-f3eb-4aee-ae7f-1d8a27b55e58",
   "metadata": {},
   "outputs": [
    {
     "data": {
      "text/plain": [
       "Index(['person_age', 'person_income', 'person_home_ownership',\n",
       "       'person_emp_length', 'loan_intent', 'loan_grade', 'loan_amnt',\n",
       "       'loan_int_rate', 'loan_status', 'loan_percent_income',\n",
       "       'cb_person_default_on_file', 'cb_person_cred_hist_length'],\n",
       "      dtype='object')"
      ]
     },
     "execution_count": 6,
     "metadata": {},
     "output_type": "execute_result"
    }
   ],
   "source": [
    "df.columns"
   ]
  },
  {
   "cell_type": "code",
   "execution_count": 7,
   "id": "6305751d-c066-4b87-9997-a5167f260a59",
   "metadata": {},
   "outputs": [],
   "source": [
    "# 1. Clean and Preprocess the Dataset\n",
    "# Define features and target\n",
    "features = [\n",
    "    'person_age', 'person_income', 'person_home_ownership', 'person_emp_length',\n",
    "    'loan_intent', 'loan_grade', 'loan_amnt', 'loan_int_rate', 'loan_percent_income',\n",
    "    'cb_person_default_on_file', 'cb_person_cred_hist_length'\n",
    "]\n",
    "target = 'loan_status'  # 1 = default, 0 = no default\n",
    "\n",
    "X = df[features]\n",
    "y = df[target]"
   ]
  },
  {
   "cell_type": "code",
   "execution_count": 8,
   "id": "710d0510-1d4b-4613-bbbc-13831f0e7fd5",
   "metadata": {},
   "outputs": [],
   "source": [
    "# Define numeric and categorical features\n",
    "numeric_features = ['person_age', 'person_income', 'person_emp_length', 'loan_amnt', \n",
    "                    'loan_int_rate', 'loan_percent_income', 'cb_person_cred_hist_length']\n",
    "categorical_features = ['person_home_ownership', 'loan_intent', 'loan_grade', 'cb_person_default_on_file']"
   ]
  },
  {
   "cell_type": "code",
   "execution_count": 9,
   "id": "fc64a0fe-377d-4459-8b4d-361b73ed37aa",
   "metadata": {},
   "outputs": [],
   "source": [
    "# Preprocessing pipelines\n",
    "numeric_transformer = Pipeline(steps=[\n",
    "    ('imputer', SimpleImputer(strategy='median')),\n",
    "    ('scaler', StandardScaler())\n",
    "])\n",
    "\n",
    "categorical_transformer = Pipeline(steps=[\n",
    "    ('imputer', SimpleImputer(strategy='constant', fill_value='missing')),\n",
    "    ('onehot', OneHotEncoder(handle_unknown='ignore'))\n",
    "])\n",
    "\n",
    "preprocessor = ColumnTransformer(\n",
    "    transformers=[\n",
    "        ('num', numeric_transformer, numeric_features),\n",
    "        ('cat', categorical_transformer, categorical_features)\n",
    "    ])"
   ]
  },
  {
   "cell_type": "code",
   "execution_count": 10,
   "id": "5a2d36d2-4675-41b5-951d-f095076e1a51",
   "metadata": {},
   "outputs": [],
   "source": [
    "# Split data into train and test sets\n",
    "X_train, X_test, y_train, y_test = train_test_split(X, y, test_size=0.2, random_state=42, stratify=y)"
   ]
  },
  {
   "cell_type": "code",
   "execution_count": 11,
   "id": "38f6c31a-b166-45b6-9d68-8880d02d1db7",
   "metadata": {},
   "outputs": [
    {
     "name": "stdout",
     "output_type": "stream",
     "text": [
      "Logistic Regression AUC: 0.8693\n"
     ]
    }
   ],
   "source": [
    "# 2. Train Binary Classification Models\n",
    "\n",
    "# Model 1: Logistic Regression\n",
    "lr_pipeline = Pipeline(steps=[\n",
    "    ('preprocessor', preprocessor),\n",
    "    ('classifier', LogisticRegression(max_iter=1000, random_state=42))\n",
    "])\n",
    "\n",
    "lr_pipeline.fit(X_train, y_train)\n",
    "lr_probs = lr_pipeline.predict_proba(X_test)[:, 1]\n",
    "lr_auc = roc_auc_score(y_test, lr_probs)\n",
    "print(f'Logistic Regression AUC: {lr_auc:.4f}')"
   ]
  },
  {
   "cell_type": "code",
   "execution_count": 16,
   "id": "fdfc3680-7ff8-4b82-b7aa-b70e12bd49fc",
   "metadata": {},
   "outputs": [
    {
     "name": "stderr",
     "output_type": "stream",
     "text": [
      "C:\\Users\\bless\\anaconda3\\Lib\\site-packages\\xgboost\\training.py:183: UserWarning: [18:11:39] WARNING: C:\\actions-runner\\_work\\xgboost\\xgboost\\src\\learner.cc:738: \n",
      "Parameters: { \"use_label_encoder\" } are not used.\n",
      "\n",
      "  bst.update(dtrain, iteration=i, fobj=obj)\n"
     ]
    },
    {
     "name": "stdout",
     "output_type": "stream",
     "text": [
      "XGBoost AUC: 0.9518\n"
     ]
    }
   ],
   "source": [
    "# Model 2: XGBoost\n",
    "xgb_pipeline = Pipeline(steps=[\n",
    "    ('preprocessor', preprocessor),\n",
    "    ('classifier', xgb.XGBClassifier(use_label_encoder=False, eval_metric='logloss', random_state=42))\n",
    "])\n",
    "\n",
    "xgb_pipeline.fit(X_train, y_train)\n",
    "xgb_probs = xgb_pipeline.predict_proba(X_test)[:, 1]\n",
    "xgb_auc = roc_auc_score(y_test, xgb_probs)\n",
    "print(f'XGBoost AUC: {xgb_auc:.4f}')"
   ]
  },
  {
   "cell_type": "code",
   "execution_count": 13,
   "id": "588ca768-4294-41c4-ad93-7da86aa55e4b",
   "metadata": {},
   "outputs": [],
   "source": [
    "# 3. Define Business Cost Values\n",
    "# Assume:\n",
    "# - False Negative (FN): Predicting no default but actual default -> Cost of loan loss (e.g., 5 units)\n",
    "# - False Positive (FP): Predicting default but no default -> Cost of lost opportunity (e.g., 1 unit)\n",
    "cost_fn = 5\n",
    "cost_fp = 1"
   ]
  },
  {
   "cell_type": "code",
   "execution_count": 17,
   "id": "aef866e6-9d6a-454b-bb7e-5c9ade7ee4c3",
   "metadata": {},
   "outputs": [],
   "source": [
    "# 4. Adjust Model Threshold to Minimize Total Business Cost (using XGBoost)\n",
    "precision, recall, thresholds = precision_recall_curve(y_test, xgb_probs)\n",
    "total_costs = []\n",
    "for thresh in thresholds:\n",
    "    y_pred = (xgb_probs >= thresh).astype(int)\n",
    "    fp = np.sum((y_pred == 1) & (y_test == 0))\n",
    "    fn = np.sum((y_pred == 0) & (y_test == 1))\n",
    "    total_cost = (fp * cost_fp) + (fn * cost_fn)\n",
    "    total_costs.append(total_cost)"
   ]
  },
  {
   "cell_type": "code",
   "execution_count": 18,
   "id": "0341fd18-5375-4072-827d-8d706fa1760e",
   "metadata": {},
   "outputs": [
    {
     "name": "stdout",
     "output_type": "stream",
     "text": [
      "Optimal Threshold (XGBoost): 0.1691\n",
      "Minimum Total Business Cost: 1495\n"
     ]
    }
   ],
   "source": [
    "# Find the threshold with minimum cost\n",
    "min_cost_idx = np.argmin(total_costs)\n",
    "optimal_threshold = thresholds[min_cost_idx]\n",
    "min_cost = total_costs[min_cost_idx]\n",
    "\n",
    "print(f'Optimal Threshold (XGBoost): {optimal_threshold:.4f}')\n",
    "print(f'Minimum Total Business Cost: {min_cost}')"
   ]
  },
  {
   "cell_type": "code",
   "execution_count": 19,
   "id": "1077a4d2-637a-497c-9c4d-43d78059cee8",
   "metadata": {},
   "outputs": [
    {
     "data": {
      "image/png": "[encoded data removed]",
      "text/plain": [
       "<Figure size 1000x600 with 1 Axes>"
      ]
     },
     "metadata": {},
     "output_type": "display_data"
    }
   ],
   "source": [
    "# Plot total cost vs. threshold\n",
    "plt.figure(figsize=(10, 6))\n",
    "plt.plot(thresholds, total_costs, label='Total Cost')\n",
    "plt.axvline(optimal_threshold, color='red', linestyle='--', label=f'Optimal Threshold: {optimal_threshold:.4f}')\n",
    "plt.title('Total Business Cost vs. Decision Threshold (XGBoost)')\n",
    "plt.xlabel('Threshold')\n",
    "plt.ylabel('Total Cost')\n",
    "plt.legend()\n",
    "plt.grid(True)\n",
    "plt.show()"
   ]
  },
  {
   "cell_type": "code",
   "execution_count": 20,
   "id": "6156adfe-a9ff-4369-b76d-64a4e459cd5f",
   "metadata": {},
   "outputs": [
    {
     "name": "stdout",
     "output_type": "stream",
     "text": [
      "Performance at Optimal Threshold (XGBoost):\n",
      "AUC: 0.9518\n",
      "False Positives: 475, False Negatives: 204\n"
     ]
    }
   ],
   "source": [
    "# Evaluate at optimal threshold\n",
    "y_pred_optimal = (xgb_probs >= optimal_threshold).astype(int)\n",
    "fp = np.sum((y_pred_optimal == 1) & (y_test == 0))\n",
    "fn = np.sum((y_pred_optimal == 0) & (y_test == 1))\n",
    "print(f'Performance at Optimal Threshold (XGBoost):')\n",
    "print(f'AUC: {xgb_auc:.4f}')\n",
    "print(f'False Positives: {fp}, False Negatives: {fn}')"
   ]
  },
  {
   "cell_type": "code",
   "execution_count": null,
   "id": "9de2cf82-c596-4182-b06c-c1e08c33d682",
   "metadata": {},
   "outputs": [],
   "source": []
  }
 ],
 "metadata": {
  "kernelspec": {
   "display_name": "Python 3 (ipykernel)",
   "language": "python",
   "name": "python3"
  },
  "language_info": {
   "codemirror_mode": {
    "name": "ipython",
    "version": 3
   },
   "file_extension": ".py",
   "mimetype": "text/x-python",
   "name": "python",
   "nbconvert_exporter": "python",
   "pygments_lexer": "ipython3",
   "version": "3.13.5"
  }
 },
 "nbformat": 4,
 "nbformat_minor": 5
}
